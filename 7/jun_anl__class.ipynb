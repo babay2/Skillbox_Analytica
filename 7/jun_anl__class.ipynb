{
 "cells": [
  {
   "cell_type": "markdown",
   "metadata": {},
   "source": [
    "# Классы\n",
    "## Домашнее задание"
   ]
  },
  {
   "cell_type": "markdown",
   "metadata": {},
   "source": [
    "### Вопросы по лекциям\n",
    "\n",
    "#### 1.\n",
    "\n",
    "Напишите название функции, которая является конструктором класса."
   ]
  },
  {
   "cell_type": "markdown",
   "metadata": {},
   "source": [
    "**Ответ:**\n",
    "Конструктор класса функция - _ __init__ _ "
   ]
  },
  {
   "cell_type": "markdown",
   "metadata": {},
   "source": [
    "#### 2.\n",
    "\n",
    "На что указывает переменная `self`?"
   ]
  },
  {
   "cell_type": "markdown",
   "metadata": {},
   "source": [
    "**Ответ:**\n",
    "<br>Переменная self указывает на вновь созданный объект</br>"
   ]
  },
  {
   "cell_type": "markdown",
   "metadata": {},
   "source": [
    "#### 3.\n",
    "С помощью какой функции можно проверить, что некая строка является именем одного из атрибутов объекта?"
   ]
  },
  {
   "cell_type": "markdown",
   "metadata": {},
   "source": [
    "**Ответ:** hasattr"
   ]
  },
  {
   "cell_type": "markdown",
   "metadata": {},
   "source": [
    "#### 4.\n",
    "Когда вызывается метод `__del__`? (относительно события удаления объекта)"
   ]
  },
  {
   "cell_type": "markdown",
   "metadata": {},
   "source": [
    "**Ответ:** метод **'__del__'** вызывается перед самымм удалением объекта"
   ]
  },
  {
   "cell_type": "markdown",
   "metadata": {},
   "source": [
    "#### 5.\n",
    "Верно ли, что атрибут класса перекрывает атрибут объекта?"
   ]
  },
  {
   "cell_type": "markdown",
   "metadata": {},
   "source": [
    "**Ответ:** Не верно, атрибуты объекта перекрывают атрибуты класса. Атрибут класса присваивается объекту только если объекту не был назначен данный атрибут. "
   ]
  },
  {
   "cell_type": "markdown",
   "metadata": {},
   "source": [
    "#### 6.\n",
    "Можно ли атрибуты базового класса вызывать в дочернем классе? Если да, то напишите, нет ли исклчений?"
   ]
  },
  {
   "cell_type": "markdown",
   "metadata": {},
   "source": [
    "**Ответ:** Да атрибуты базового класса можно вызывать в дочернем классе, но если имя атрибута базового класса начинается с двух подчеркиваний такой атрибут в дочернем классе вызвать нельзя."
   ]
  },
  {
   "cell_type": "markdown",
   "metadata": {},
   "source": [
    "#### 7.\n",
    "Объясните своими словами для чего нужен метод `super`."
   ]
  },
  {
   "cell_type": "markdown",
   "metadata": {},
   "source": [
    "**Ответ:** Метод супер позволяет вызывать в дочернем классе методы родительского класса напрямую."
   ]
  },
  {
   "cell_type": "markdown",
   "metadata": {},
   "source": [
    "### Практика\n",
    "\n",
    "1. Напишите класс `Fraction` для работы с дробями. Пусть дробь в нашем классе предстает в виде `числитель/знаменатель`. Дробное число должно создаваться по запросу `Fraction(a, b)`, где `a` – это числитель, а `b` – знаменатель дроби. \n",
    "2. Добавьте возможность сложения (сложения через оператор сложения) для дроби. Предполагается, что операция сложения может проводиться как только между дробями, так и между дробью и целым числом. Результат оперции должен быть представлен в виде дроби.\n",
    "3. Добавьте возможность взятия раздости (вычитания через оператор вычитания) для дробей. Предполагается, что операция вычитания может проводиться как только для двух дробей, так и для дроби и целого числа. Результат оперции должен быть представлен в виде дроби.\n",
    "4. Добавьте возможность умножения (умножения через оператор умножения) для дробей. Предполагается, что операция умножения может проводиться как только для двух дробей, так и для дроби и целого числа. Результат оперции должен быть представлен в виде дроби.\n",
    "5. Добавьте возможность приведения дроби к целому числу через стандартную функцию `int()`.\n",
    "6. Добавьте возможность приведения дроби к числу с плавающей точкой через стандартную функцию `float()`.\n",
    "7. Создайте дочерний класс `OperationsOnFraction` и добавьте туда собственные методы `getint` и `getfloat`, которые будут возвращять целую часть дроби и представление дроби в виде числа с плавающей точкой соответственно. \n",
    " "
   ]
  },
  {
   "cell_type": "code",
   "execution_count": 14,
   "metadata": {},
   "outputs": [],
   "source": [
    "### YOUR CODE HERE ###\n",
    "class Fraction:\n",
    "\n",
    "    def __init__(self, numer, denom):\n",
    "        self.numer = numer\n",
    "        self.denom = denom\n",
    "\n",
    "    def __str__(self):\n",
    "        return '{}/{}'.format(self.numer, self.denom)\n",
    "\n",
    "\n",
    "\n",
    "    def __add__(self, other):\n",
    "        if isinstance(other, Fraction):\n",
    "            return Fraction(self.numer*other.denom + other.numer*self.denom, self.denom*other.denom)\n",
    "        else:\n",
    "            new_other = Fraction(other, 1)\n",
    "            new_obj = self + new_other\n",
    "        return new_obj\n",
    "\n",
    "    def __sub__(self, other):\n",
    "        if isinstance(other, Fraction):\n",
    "            return Fraction(self.numer*other.denom - other.numer*self.denom, self.denom*other.denom)\n",
    "        else:\n",
    "            new_other = Fraction(other, 1)\n",
    "            new_obj = self - new_other\n",
    "        return new_obj\n",
    "\n",
    "    def __mul__(self, other):\n",
    "        if isinstance(other, Fraction):\n",
    "            return Fraction(self.numer*other.numer, self.denom*other.denom)\n",
    "        else:\n",
    "            new_other = Fraction(other, 1)\n",
    "            new_obj = self * new_other\n",
    "        return new_obj\n",
    "\n",
    "    def __int__(self):\n",
    "        return int(self.numer/self.denom)\n",
    "\n",
    "    def __float__(self):\n",
    "        return float(self.numer/self.denom)\n",
    "\n",
    "class OperationFraction(Fraction):\n",
    "    def __int__(self, numer, denom):\n",
    "        super().__init__(numer=numer, denom=denom)\n",
    "\n",
    "    def getint(self):\n",
    "        return int(self.numer/self.denom)\n",
    "\n",
    "    def getfloat(self):\n",
    "        return float(self.numer/self.denom)\n",
    "\n",
    "    \n"
   ]
  }
 ],
 "metadata": {
  "kernelspec": {
   "display_name": "Python 3",
   "language": "python",
   "name": "python3"
  },
  "language_info": {
   "codemirror_mode": {
    "name": "ipython",
    "version": 3
   },
   "file_extension": ".py",
   "mimetype": "text/x-python",
   "name": "python",
   "nbconvert_exporter": "python",
   "pygments_lexer": "ipython3",
   "version": "3.7.3"
  }
 },
 "nbformat": 4,
 "nbformat_minor": 2
}
